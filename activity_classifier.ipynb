{
 "cells": [
  {
   "cell_type": "markdown",
   "metadata": {},
   "source": [
    "<h1>Daily and Sports Activities Classification </h1>\n",
    "\n",
    "\n",
    "Each of the 19 activities is performed by eight subjects (4 female, 4 male, between the ages 20 and 30) for 5 minutes. \n",
    "Total signal duration is 5 minutes for each activity of each subject. \n",
    "The subjects are asked to perform the activities in their own style and were not restricted on how the activities should be performed. For this reason, there are inter-subject variations in the speeds and amplitudes of some activities. \n",
    "The activities are performed at the Bilkent University Sports Hall, in the Electrical and Electronics Engineering Building, \n",
    "and in a flat outdoor area on campus. Sensor units are calibrated to acquire data at 25 Hz sampling frequency. The 5-min signals are divided into 5-sec segments so that 480(=60x8) signal segments are obtained for each activity. \n",
    "\n",
    "The 19 activities are: \n",
    "sitting (A1), \n",
    "standing (A2), \n",
    "lying on back and on right side (A3 and A4), \n",
    "ascending and descending stairs (A5 and A6), \n",
    "standing in an elevator still (A7) \n",
    "and moving around in an elevator (A8), \n",
    "walking in a parking lot (A9), \n",
    "walking on a treadmill with a speed of 4 km/h (in flat and 15 deg inclined positions) (A1 \n",
    "0 and A11), \n",
    "running on a treadmill with a speed of 8 km/h (A12), \n",
    "exercising on a stepper (A13), \n",
    "exercising on a cross trainer (A14), \n",
    "cycling on an exercise bike in horizontal and vertical positions (A15 and A16), \n",
    "rowing (A17), \n",
    "jumping (A18), \n",
    "and playing basketball (A19). \n",
    "\n",
    "File structure: \n",
    "\n",
    "19 activities (a) (in the order given above) \n",
    "8 subjects (p) \n",
    "60 segments (s) \n",
    "5 units on torso (T), right arm (RA), left arm (LA), right leg (RL), left leg (LL) \n",
    "9 sensors on each unit (x,y,z accelerometers, x,y,z gyroscopes, x,y,z magnetometers) "
   ]
  },
  {
   "cell_type": "markdown",
   "metadata": {},
   "source": [
    "<h1>PLEASE NOTE</h1>- I have generated two dataframes out of the data given on the  link , first one is raw signal data without any feature engineering and second one is created using features like mean, max, min,dtft,autocorelation etc. We have first used raw data to train a neural model then feature engineered data to train several models.\n",
    "\n",
    "first dataframe comes from 'data.csv'\n",
    "\n",
    "second comes from 'features.csv'"
   ]
  },
  {
   "cell_type": "markdown",
   "metadata": {},
   "source": [
    "<h1>PLEASE NOTE</h1>- A lot of the ideas in this notebook are inspired/taken from this research paper-K. Altun, B. Barshan, and O. Tunçel,\n",
    "<b>`Comparative study on classifying human activities with miniature inertial and magnetic sensors.</b>\n"
   ]
  },
  {
   "cell_type": "code",
   "execution_count": 1,
   "metadata": {},
   "outputs": [],
   "source": [
    "import numpy as np # linear algebra\n",
    "import pandas as pd # data processing, CSV file I/O (e.g. pd.read_csv)\n",
    "import os\n",
    "from sklearn.metrics import accuracy_score\n",
    "import gc\n",
    "import scipy\n",
    "import matplotlib.pyplot as plt\n",
    "import seaborn as sns\n",
    "%matplotlib inline\n"
   ]
  },
  {
   "cell_type": "markdown",
   "metadata": {},
   "source": [
    "Okay so lets first convert all the .txt files into .csv files so it becomes easy to handle data in it."
   ]
  },
  {
   "cell_type": "code",
   "execution_count": null,
   "metadata": {},
   "outputs": [],
   "source": [
    "#script for generating data , i'd suggest to directly call the csv file i have provided.\n",
    "for i in range(1,20):                               #looping over activity folder\n",
    "    for j in range(1,9):                            #looping over individual folder\n",
    "        for t in range(1,61):                       #looping over segments , each segments represents 5 sc signal from different sensors\n",
    "            if(i<10):\n",
    "                activity='a0'+str(i)\n",
    "            else:\n",
    "                activity='a'+str(i)\n",
    "            person='p'+str(j)\n",
    "            if t<10:\n",
    "                seg='s0'+str(t)\n",
    "            else:\n",
    "                seg='s'+str(t)\n",
    "            path='data/'+activity+'/'+person+'/'+seg+'.txt'\n",
    "            file = open(path,'r+')\n",
    "            String=file.read()\n",
    "            file.close()\n",
    "            #print(String)\n",
    "            path='data/'+activity+'/'+person+'/'+seg+'.csv'\n",
    "            file = open(path, \"w\")\n",
    "            file.write(String)\n",
    "            file.close()\n"
   ]
  },
  {
   "cell_type": "markdown",
   "metadata": {},
   "source": [
    "OKay now that we have the files in csv format , lets quickly visualize of portion of signal from a sensor for an individual."
   ]
  },
  {
   "cell_type": "code",
   "execution_count": 2,
   "metadata": {},
   "outputs": [],
   "source": [
    "#this unction helps us a genrate the full 5 mintue signal from a particular sensor for an individual for a particular activity\n",
    "def generate_sig(sensor,person,actvity):\n",
    "    signal=np.array([])\n",
    "    for i in range(1,61):\n",
    "        a=str(i)\n",
    "        if i<10: a='s0'+a\n",
    "        else: a='s'+a\n",
    "        if actvity<10:b='0'+str(actvity)\n",
    "        else:b=str(actvity)\n",
    "        signal_data=df=pd.read_csv('data/a'+b+'/p'+str(person)+'/'+a+'.csv')\n",
    "        cols=signal_data.columns.values\n",
    "        signal_segment=np.array(signal_data[cols[sensor]].values)\n",
    "        signal=np.concatenate((signal, signal_segment), axis=0)\n",
    "        del cols,signal_segment,signal_data\n",
    "    return signal\n"
   ]
  },
  {
   "cell_type": "markdown",
   "metadata": {},
   "source": [
    " <h1>Activity 1  </h1>"
   ]
  },
  {
   "cell_type": "code",
   "execution_count": 3,
   "metadata": {},
   "outputs": [
    {
     "data": {
      "text/plain": [
       "0.11038998924555089"
      ]
     },
     "execution_count": 3,
     "metadata": {},
     "output_type": "execute_result"
    },
    {
     "data": {
      "image/png": "[encoded data removed]",
      "text/plain": [
       "<matplotlib.figure.Figure at 0x7fb2a78a33c8>"
      ]
     },
     "metadata": {},
     "output_type": "display_data"
    }
   ],
   "source": [
    "signal=generate_sig(2,1,1)\n",
    "plt.plot(signal)\n",
    "np.std(signal)"
   ]
  },
  {
   "cell_type": "code",
   "execution_count": 4,
   "metadata": {},
   "outputs": [
    {
     "data": {
      "text/plain": [
       "0.12300271750416869"
      ]
     },
     "execution_count": 4,
     "metadata": {},
     "output_type": "execute_result"
    },
    {
     "data": {
      "image/png": "[encoded data removed]",
      "text/plain": [
       "<matplotlib.figure.Figure at 0x7fb2a77f6630>"
      ]
     },
     "metadata": {},
     "output_type": "display_data"
    }
   ],
   "source": [
    "signal=generate_sig(2,3,1)\n",
    "plt.plot(signal)\n",
    "np.std(signal)"
   ]
  },
  {
   "cell_type": "code",
   "execution_count": 5,
   "metadata": {},
   "outputs": [
    {
     "data": {
      "text/plain": [
       "0.055388918258640715"
      ]
     },
     "execution_count": 5,
     "metadata": {},
     "output_type": "execute_result"
    },
    {
     "data": {
      "image/png": "[encoded data removed]",
      "text/plain": [
       "<matplotlib.figure.Figure at 0x7fb2a3f69b00>"
      ]
     },
     "metadata": {},
     "output_type": "display_data"
    }
   ],
   "source": [
    "signal=generate_sig(2,5,1)\n",
    "plt.plot(signal)\n",
    "np.std(signal)"
   ]
  },
  {
   "cell_type": "markdown",
   "metadata": {},
   "source": [
    "At first glance , the graphs may look completely different but it seems their standard deviation is usualy rtty close , it can make a ood feature."
   ]
  },
  {
   "cell_type": "markdown",
   "metadata": {},
   "source": [
    " <h1>Activity 5  </h1>"
   ]
  },
  {
   "cell_type": "code",
   "execution_count": 219,
   "metadata": {},
   "outputs": [
    {
     "data": {
      "text/plain": [
       "0.23642957109935844"
      ]
     },
     "execution_count": 219,
     "metadata": {},
     "output_type": "execute_result"
    },
    {
     "data": {
      "image/png": "[encoded data removed]",
      "text/plain": [
       "<matplotlib.figure.Figure at 0x7fd7e85027b8>"
      ]
     },
     "metadata": {},
     "output_type": "display_data"
    }
   ],
   "source": [
    "signal=generate_sig(4,1,5)\n",
    "plt.plot(signal)\n",
    "np.std(signal)"
   ]
  },
  {
   "cell_type": "code",
   "execution_count": 220,
   "metadata": {},
   "outputs": [
    {
     "data": {
      "text/plain": [
       "0.25872591973525311"
      ]
     },
     "execution_count": 220,
     "metadata": {},
     "output_type": "execute_result"
    },
    {
     "data": {
      "image/png": "[encoded data removed]",
      "text/plain": [
       "<matplotlib.figure.Figure at 0x7fd7e86231d0>"
      ]
     },
     "metadata": {},
     "output_type": "display_data"
    }
   ],
   "source": [
    "signal=generate_sig(4,2,5)\n",
    "plt.plot(signal)\n",
    "np.std(signal)"
   ]
  },
  {
   "cell_type": "code",
   "execution_count": 221,
   "metadata": {},
   "outputs": [
    {
     "data": {
      "text/plain": [
       "0.22380848574877193"
      ]
     },
     "execution_count": 221,
     "metadata": {},
     "output_type": "execute_result"
    },
    {
     "data": {
      "image/png": "[encoded data removed]",
      "text/plain": [
       "<matplotlib.figure.Figure at 0x7fd7e86b2da0>"
      ]
     },
     "metadata": {},
     "output_type": "display_data"
    }
   ],
   "source": [
    "signal=generate_sig(4,3,5)\n",
    "plt.plot(signal)\n",
    "np.std(signal)"
   ]
  },
  {
   "cell_type": "markdown",
   "metadata": {},
   "source": [
    "Now signal from sensor 4 seems really similar for the participants , alll of them seem to have standard deviation aof around 0.22"
   ]
  },
  {
   "cell_type": "markdown",
   "metadata": {},
   "source": [
    "So we observe that for a particular activity and sensor , we usually get same kind of sigal from different participant for example , signal produced from walking for different participant will have similar statistics , this is an important face , we can just use statistics of a signal instead of each feature value and significantly bring down the number of features."
   ]
  },
  {
   "cell_type": "markdown",
   "metadata": {},
   "source": [
    "Now to adress the question \" Each activity signal will have variation across subjects. How will you handle this?\"\n",
    "We can use a very simple transformation s=log(s+1), this transformation is usualy done to reduce the effects of outliers , what it does is , it brings data points closer to the mean of all data points , as two signals from two differnt will have similar signals statistics , applything this transformation will definatly help.\n",
    "\n",
    "\n",
    "Lets see by plotng both the transformation."
   ]
  },
  {
   "cell_type": "markdown",
   "metadata": {},
   "source": [
    " <h1> After transforming </h1>"
   ]
  },
  {
   "cell_type": "code",
   "execution_count": 6,
   "metadata": {},
   "outputs": [
    {
     "data": {
      "text/plain": [
       "[<matplotlib.lines.Line2D at 0x7fb2a3ea8a58>]"
      ]
     },
     "execution_count": 6,
     "metadata": {},
     "output_type": "execute_result"
    },
    {
     "data": {
      "image/png": "[encoded data removed]",
      "text/plain": [
       "<matplotlib.figure.Figure at 0x7fb2a3e8f198>"
      ]
     },
     "metadata": {},
     "output_type": "display_data"
    }
   ],
   "source": [
    "signal=generate_sig(4,1,5)\n",
    "signal=np.log(signal+1)\n",
    "plt.plot(signal)\n"
   ]
  },
  {
   "cell_type": "code",
   "execution_count": 7,
   "metadata": {},
   "outputs": [
    {
     "data": {
      "text/plain": [
       "[<matplotlib.lines.Line2D at 0x7fb2a3e1d0f0>]"
      ]
     },
     "execution_count": 7,
     "metadata": {},
     "output_type": "execute_result"
    },
    {
     "data": {
      "image/png": "[encoded data removed]",
      "text/plain": [
       "<matplotlib.figure.Figure at 0x7fb2a3e04b70>"
      ]
     },
     "metadata": {},
     "output_type": "display_data"
    }
   ],
   "source": [
    "signal=generate_sig(4,2,5)\n",
    "signal=np.log(signal+1)\n",
    "plt.plot(signal)\n"
   ]
  },
  {
   "cell_type": "code",
   "execution_count": 8,
   "metadata": {},
   "outputs": [
    {
     "data": {
      "text/plain": [
       "[<matplotlib.lines.Line2D at 0x7fb2a3d879e8>]"
      ]
     },
     "execution_count": 8,
     "metadata": {},
     "output_type": "execute_result"
    },
    {
     "data": {
      "image/png": "[encoded data removed]",
      "text/plain": [
       "<matplotlib.figure.Figure at 0x7fb2a3e38a90>"
      ]
     },
     "metadata": {},
     "output_type": "display_data"
    }
   ],
   "source": [
    "signal=generate_sig(4,3,5)\n",
    "signal=np.log(signal+1)\n",
    "plt.plot(signal)\n"
   ]
  },
  {
   "cell_type": "markdown",
   "metadata": {},
   "source": [
    "Great it works! , if we look at the y-axis scale and except for few outliers , signals are following pretty much the same pattern , they are mostly limited bw 0.5 and -0.5\n",
    "\n",
    "\n",
    "\n",
    "Okay time to create the raw dataset for modelling , our features will be all values of a 5 sec signal segment. Since we are sampling at 25khz , will will create 5*25=125 features and we have 5 units of 9 sensors , so a total of 45 sensors generating data , so total features= 45*125= 5625 features.\n",
    "\n",
    "Now we have 19 activites , 8 participants and 60 segments , so total feature vectors will be 19*8*60=9120.\n",
    "\n",
    "so the final shape will be (9120,5625)."
   ]
  },
  {
   "cell_type": "code",
   "execution_count": null,
   "metadata": {},
   "outputs": [],
   "source": [
    "#script for generating data , i'd suggest to directly call the csv file i have provided.\n",
    "initialize=np.array(range(45*125))  #used to initialize the size o our numpy array\n",
    "raw_data=np.array([initialize])     #our numpy array\n",
    "for i in range(1,20):\n",
    "    for j in range(1,9):\n",
    "        for t in range(1,61):\n",
    "            if(i<10):\n",
    "                activity='a0'+str(i)\n",
    "            else:\n",
    "                activity='a'+str(i)\n",
    "            person='p'+str(j)\n",
    "            if t<10:\n",
    "                seg='s0'+str(t)\n",
    "            else:\n",
    "                seg='s'+str(t)\n",
    "            path='data/'+activity+'/'+person+'/'+seg+'.csv'\n",
    "            df=pd.read_csv(path)      \n",
    "            temp=df.columns.values      #since our csv file had no colums , the first row data became coulmn by default so stre it and ut it at the end later\n",
    "            df.columns=range(45)          #assigning new column names\n",
    "            df.loc[124]=temp\n",
    "            main=np.array([])\n",
    "            for n in range(45):\n",
    "                temp=np.array(df[n].values)\n",
    "                main=np.concatenate((main, temp), axis=0)\n",
    "            main=np.array([main])\n",
    "            #print(raw_data.shape)\n",
    "            raw_data=np.concatenate((raw_data,main),axis=0 )\n",
    "            del main,df,temp            "
   ]
  },
  {
   "cell_type": "code",
   "execution_count": 9,
   "metadata": {},
   "outputs": [
    {
     "name": "stderr",
     "output_type": "stream",
     "text": [
      "/usr/local/lib/python3.5/dist-packages/IPython/core/interactiveshell.py:2728: DtypeWarning: Columns (1125,1250,1375,1500,1750,2250,2375,3125,3375,3750,3875,4000,4125,4250,4375,4500,4625,4875,5000,5125,5250,5375,5500,5625) have mixed types. Specify dtype option on import or set low_memory=False.\n",
      "  interactivity=interactivity, compiler=compiler, result=result)\n"
     ]
    }
   ],
   "source": [
    "\n",
    "#df = pd.DataFrame(raw_data)           #converting numpy to pandas dataframe for easier data handling\n",
    "#del raw_data                          #freeing up the memory\n",
    "#df.to_csv('/home/harsh/Videos/yy.csv', sep='\\t')   #saving the dataframe\n",
    "df=pd.read_csv('data.csv', sep='\\t')\n",
    "#An extra row was aded in the dataframe due to conversion so drop it\n",
    "df=df.drop(df.index[0]) \n",
    "cols=df.columns.values"
   ]
  },
  {
   "cell_type": "code",
   "execution_count": 10,
   "metadata": {},
   "outputs": [
    {
     "data": {
      "text/plain": [
       "float64    5601\n",
       "object       24\n",
       "int64         1\n",
       "dtype: int64"
      ]
     },
     "execution_count": 10,
     "metadata": {},
     "output_type": "execute_result"
    }
   ],
   "source": [
    "#print(df.shape)\n",
    "df[cols].dtypes.value_counts()"
   ]
  },
  {
   "cell_type": "markdown",
   "metadata": {},
   "source": [
    "Okay we see there are some columns that arent float or int , these have to be converted , if we look at these columns , we see that some values are incorrect , there are values like 1.2342.1  , such values have to be deleted and replaced with -9999 or 0."
   ]
  },
  {
   "cell_type": "code",
   "execution_count": 11,
   "metadata": {},
   "outputs": [],
   "source": [
    "#cleaning df \n",
    "for i in cols:\n",
    "    #print(i)\n",
    "    if df[i].dtypes=='float64':\n",
    "        continue\n",
    "    df[i]=pd.to_numeric(df[i], errors='coerce')\n",
    "    \n",
    "df.fillna(0,inplace=True) "
   ]
  },
  {
   "cell_type": "code",
   "execution_count": 12,
   "metadata": {},
   "outputs": [],
   "source": [
    "#lets normalize the data in df\n",
    "for i in cols:\n",
    "    df[i]=(df[i]-df[i].min())/(df[i].max()-df[i].min())"
   ]
  },
  {
   "cell_type": "markdown",
   "metadata": {},
   "source": [
    "Now lets build the y labels for the dataframe , we will be using one hot encoding for better performance on our neural network."
   ]
  },
  {
   "cell_type": "code",
   "execution_count": 13,
   "metadata": {},
   "outputs": [],
   "source": [
    " \n",
    "y_one_hot=np.zeros([df.shape[0], 19])\n",
    "index=0\n",
    "row_i=0\n",
    "while index!=19:\n",
    "    for i in range(480):\n",
    "        new=row_i+i\n",
    "        y_one_hot[new][index]=1\n",
    "    row_i=row_i+480\n",
    "    index=index+1\n",
    "        "
   ]
  },
  {
   "cell_type": "markdown",
   "metadata": {},
   "source": [
    "Okay now lets split our dataset into training set and validation(80%-20%)."
   ]
  },
  {
   "cell_type": "code",
   "execution_count": 14,
   "metadata": {},
   "outputs": [],
   "source": [
    "from sklearn.model_selection import train_test_split\n",
    "X_train, X_val, y_train, y_val = train_test_split(df, y_one_hot, test_size=0.2, random_state=0)"
   ]
  },
  {
   "cell_type": "markdown",
   "metadata": {},
   "source": [
    "Okay now lets train our first model neural network , we are going to be using 3 layer deep neural network with softmax_cross entropy and adam aptimizer."
   ]
  },
  {
   "cell_type": "code",
   "execution_count": 15,
   "metadata": {},
   "outputs": [
    {
     "name": "stdout",
     "output_type": "stream",
     "text": [
      "Epoch 0 completed out of 100 loss: 5165841.5\n",
      "Epoch 2 completed out of 100 loss: 326453.448242\n",
      "Epoch 4 completed out of 100 loss: 170677.685547\n",
      "Epoch 6 completed out of 100 loss: 104091.01123\n",
      "Epoch 8 completed out of 100 loss: 75787.5281982\n",
      "Epoch 10 completed out of 100 loss: 52522.2423096\n",
      "Epoch 12 completed out of 100 loss: 46187.074707\n",
      "Epoch 14 completed out of 100 loss: 43937.9535522\n",
      "Epoch 16 completed out of 100 loss: 34456.9215088\n",
      "Epoch 18 completed out of 100 loss: 27240.6763916\n",
      "Epoch 20 completed out of 100 loss: 24416.2245483\n",
      "Epoch 22 completed out of 100 loss: 20200.59198\n",
      "Epoch 24 completed out of 100 loss: 20330.7872009\n",
      "Epoch 26 completed out of 100 loss: 18720.6828918\n",
      "Epoch 28 completed out of 100 loss: 19095.1682739\n",
      "Epoch 30 completed out of 100 loss: 21207.3504639\n",
      "Epoch 32 completed out of 100 loss: 14388.314743\n",
      "Epoch 34 completed out of 100 loss: 22587.6907654\n",
      "Epoch 36 completed out of 100 loss: 12622.9795227\n",
      "Epoch 38 completed out of 100 loss: 10054.0744629\n",
      "Epoch 40 completed out of 100 loss: 14305.6916885\n",
      "Epoch 42 completed out of 100 loss: 7462.89183426\n",
      "Epoch 44 completed out of 100 loss: 34852.7208557\n",
      "Epoch 46 completed out of 100 loss: 16246.5766296\n",
      "Epoch 48 completed out of 100 loss: 9501.24369812\n",
      "Epoch 50 completed out of 100 loss: 15264.5016479\n",
      "Epoch 52 completed out of 100 loss: 6410.30684662\n",
      "Epoch 54 completed out of 100 loss: 15121.7189274\n",
      "Epoch 56 completed out of 100 loss: 12531.7961383\n",
      "Epoch 58 completed out of 100 loss: 14089.6688004\n",
      "Epoch 60 completed out of 100 loss: 15629.3578167\n",
      "Epoch 62 completed out of 100 loss: 20544.8462677\n",
      "Epoch 64 completed out of 100 loss: 27164.8004761\n",
      "Epoch 66 completed out of 100 loss: 32430.1563873\n",
      "Epoch 68 completed out of 100 loss: 15703.9824829\n",
      "Epoch 70 completed out of 100 loss: 12967.3242702\n",
      "Epoch 72 completed out of 100 loss: 13884.5984497\n",
      "Epoch 74 completed out of 100 loss: 5113.4959687\n",
      "Epoch 76 completed out of 100 loss: 4176.97944641\n",
      "Epoch 78 completed out of 100 loss: 5591.07357788\n",
      "Epoch 80 completed out of 100 loss: 12131.8708763\n",
      "Epoch 82 completed out of 100 loss: 23416.24823\n",
      "Epoch 84 completed out of 100 loss: 11189.2010927\n",
      "Epoch 86 completed out of 100 loss: 22734.6253357\n",
      "Epoch 88 completed out of 100 loss: 15216.5912123\n",
      "Epoch 90 completed out of 100 loss: 18595.0454597\n",
      "Epoch 92 completed out of 100 loss: 10412.2773438\n",
      "Epoch 94 completed out of 100 loss: 4256.6774826\n",
      "Epoch 96 completed out of 100 loss: 7242.04901886\n",
      "Epoch 98 completed out of 100 loss: 3724.01163864\n",
      "Accuracy_val: 0.952303\n",
      "Accuracy_train: 0.984238\n"
     ]
    }
   ],
   "source": [
    "import tensorflow as tf\n",
    "import numpy as np\n",
    "n_nodes_hl1 = 1000  #number of nodes in layer one\n",
    "n_nodes_hl2 = 1000\n",
    "n_nodes_hl3 = 1000\n",
    "accuracy=0\n",
    "\n",
    "n_classes = 19\n",
    "batch_size = 350\n",
    "\n",
    "x = tf.placeholder('float', [None, (X_train.shape[1])])\n",
    "y = tf.placeholder('float')\n",
    "keep_prob = tf.placeholder('float')\n",
    "\n",
    "def neural_network_model(data):\n",
    "    hidden_1_layer = {'weights':tf.Variable(tf.random_normal([(X_train.shape[1]), n_nodes_hl1])),\n",
    "                      'biases':tf.Variable(tf.random_normal([n_nodes_hl1]))}\n",
    "\n",
    "    hidden_2_layer = {'weights':tf.Variable(tf.random_normal([n_nodes_hl1, n_nodes_hl2])),\n",
    "                      'biases':tf.Variable(tf.random_normal([n_nodes_hl2]))}\n",
    "\n",
    "    hidden_3_layer = {'weights':tf.Variable(tf.random_normal([n_nodes_hl2, n_nodes_hl3])),\n",
    "                      'biases':tf.Variable(tf.random_normal([n_nodes_hl3]))}\n",
    "\n",
    "    output_layer = {'weights':tf.Variable(tf.random_normal([n_nodes_hl3, n_classes])),\n",
    "                    'biases':tf.Variable(tf.random_normal([n_classes])),}\n",
    "\n",
    "\n",
    "    l1 = tf.add(tf.matmul(data,hidden_1_layer['weights']), hidden_1_layer['biases'])\n",
    "    l1 = tf.nn.relu(l1)\n",
    "    drop_out = tf.nn.dropout(l1, keep_prob)  # DROP-OUT here\n",
    "\n",
    "    l2 = tf.add(tf.matmul(l1,hidden_2_layer['weights']), hidden_2_layer['biases'])\n",
    "    l2 = tf.nn.relu(l2)\n",
    "    drop_out = tf.nn.dropout(l2, keep_prob)  # DROP-OUT here\n",
    "\n",
    "    l3 = tf.add(tf.matmul(l2,hidden_3_layer['weights']), hidden_3_layer['biases'])\n",
    "    l3 = tf.nn.relu(l3)\n",
    "    drop_out = tf.nn.dropout(l3, keep_prob)  # DROP-OUT here\n",
    "\n",
    "    output = tf.matmul(l3,output_layer['weights']) + output_layer['biases']\n",
    "\n",
    "    return output\n",
    "\n",
    "\n",
    "def train_neural_network(x,probablity,hm_epochs):\n",
    "    prediction = neural_network_model(x)\n",
    "    cost = tf.reduce_mean( tf.nn.softmax_cross_entropy_with_logits(logits=prediction, labels=y) )\n",
    "    optimizer = tf.train.AdamOptimizer().minimize(cost)\n",
    "    #optimizer = tf.train.MomentumOptimizer(momentum=0.1,learning_rate=0.1).minimize(cost)\n",
    "    #optimizer = tf.train.ProximalGradientDescentOptimizer().minimize(cost)\n",
    "    #optimizer = tf.train.RMSPropOptimizer(learning_rate=0.5).minimize(cost)\n",
    "    \n",
    "    \n",
    "    \n",
    "    \n",
    "    with tf.Session() as sess:\n",
    "        # OLD:\n",
    "        #sess.run(tf.initialize_all_variables())\n",
    "        # NEW:\n",
    "        sess.run(tf.global_variables_initializer())\n",
    "\n",
    "        for epoch in range(hm_epochs):\n",
    "            epoch_loss = 0\n",
    "            i=0\n",
    "            end=batch_size\n",
    "            while end<(X_train.shape[0]):\n",
    "                epoch_x=np.array(X_train[i:end])\n",
    "                epoch_y=np.array(y_train[i:end])\n",
    "                i=i+batch_size\n",
    "                end=end+batch_size\n",
    "                _, c = sess.run([optimizer, cost], feed_dict={x: epoch_x, y: epoch_y,keep_prob:probablity})\n",
    "                epoch_loss += c\n",
    "            if epoch%2==0:\n",
    "                print('Epoch', epoch, 'completed out of',hm_epochs,'loss:',epoch_loss)\n",
    "\n",
    "        correct = tf.equal(tf.argmax(prediction, 1), tf.argmax(y, 1))\n",
    "\n",
    "        accuracy = tf.reduce_mean(tf.cast(correct, 'float'))\n",
    "        print('Accuracy_val:',accuracy.eval({x:X_val, y:y_val,keep_prob:1}))\n",
    "        print('Accuracy_train:',accuracy.eval({x:X_train, y:y_train,keep_prob:1}))\n",
    "\n",
    "train_neural_network(x,1,100)\n",
    "del df\n",
    "del X_val,X_train"
   ]
  },
  {
   "cell_type": "markdown",
   "metadata": {},
   "source": [
    "Okay great , our model performed pretty good on just raw data.\n",
    "\n",
    "\n",
    "Now lets do some feature engineering.\n",
    "As we saw in our visualization , our signals for a particular activity are pretty similar , we can actually just use some statistic of the signal rather than all value , so lets calculate some important statistc for every segment.\n",
    "We are going to be using the following statistic-\n",
    "maximum value,\n",
    "minimum value,\n",
    "mean,\n",
    "skewness,\n",
    "kurtosis,\n",
    "autocorrelation (we use 11 values),\n",
    "DFT (we use biggest 5 peaks  and their corresponding frequencies).\n",
    "\n",
    "so for a single segment we get(1+1+1+1+1+11+5+5), now we have 45 different units so we multiply it by 45 giving us a total of 26*45=1170 features.\n",
    "So now we will have a dataset of  shape (9120,1170)\n",
    "\n"
   ]
  },
  {
   "cell_type": "code",
   "execution_count": 16,
   "metadata": {},
   "outputs": [],
   "source": [
    "def dtft(s):\n",
    "    dt=t=np.fft.fft(s)\n",
    "    dt.sort()\n",
    "    #print(dt)\n",
    "    real=dt.real\n",
    "    imag=dt.imag\n",
    "    return np.concatenate((real[-5:],imag[-5:]),axis=0)\n",
    "def autocorr(x):\n",
    "    result = np.correlate(x, x, mode='full')\n",
    "    result =result[int(result.size/2):]\n",
    "    new=[result[0]]\n",
    "    for i in range(1,11):\n",
    "        new.append(result[i*5])\n",
    "    return np.array(new)\n",
    "\n",
    "\n"
   ]
  },
  {
   "cell_type": "code",
   "execution_count": null,
   "metadata": {},
   "outputs": [],
   "source": [
    "\n",
    "#script to generate hand engineered dataset.\n",
    "initialize=np.array(range(1170))\n",
    "signal_data=np.array([initialize])\n",
    "for i in range(1,20):\n",
    "    #print(i)\n",
    "    for j in range(1,9):\n",
    "        for t in range(1,61):\n",
    "            if(i<10):\n",
    "                activity='a0'+str(i)\n",
    "            else:\n",
    "                activity='a'+str(i)\n",
    "            person='p'+str(j)\n",
    "            if t<10:\n",
    "                seg='s0'+str(t)\n",
    "            else:\n",
    "                seg='s'+str(t)\n",
    "            path='data/'+activity+'/'+person+'/'+seg+'.csv'\n",
    "            df=pd.read_csv(path)\n",
    "            temp=df.columns.values\n",
    "            df.columns=range(45)\n",
    "            df.loc[124]=temp\n",
    "            main=np.array([])\n",
    "            for n in range(45):\n",
    "                df[n]=pd.to_numeric(df[n], errors='coerce')\n",
    "                df[n].fillna(0,inplace=True) \n",
    "                s=np.array(df[n].values)\n",
    "                a=s.max()\n",
    "                b=s.min()\n",
    "                c=s.mean()\n",
    "                d=scipy.stats.kurtosis(s)\n",
    "                e=scipy.stats.skew(s)\n",
    "                main=np.concatenate((main, np.array([a,b,c,d,e])), axis=0)\n",
    "                peaks_11=dtft(s)\n",
    "                #print(peaks_11)\n",
    "                main=np.concatenate((main, peaks_11), axis=0)\n",
    "                dft_6=autocorr(s)\n",
    "                main=np.concatenate((main, dft_6), axis=0)\n",
    "            main=np.array([main])\n",
    "            #print(raw_data.shape)\n",
    "            signal_data=np.concatenate((signal_data,main),axis=0 )\n",
    "            del main,df,temp            "
   ]
  },
  {
   "cell_type": "markdown",
   "metadata": {},
   "source": [
    "Okay now we have reduced our datset by 4 times and have produced data that captures the structure of signals.\n",
    "Now lets clean it like we cleaned raw_data."
   ]
  },
  {
   "cell_type": "code",
   "execution_count": 17,
   "metadata": {},
   "outputs": [],
   "source": [
    "#df = pd.DataFrame(signal_data)\n",
    "#df4.to_csv('/home/harsh/Videos/features.csv', sep='\\t')\n",
    "#del df\n",
    "\n",
    "df=pd.read_csv('features.csv', sep='\\t')  \n",
    "\n",
    "df=df.drop(df.index[0])"
   ]
  },
  {
   "cell_type": "code",
   "execution_count": 18,
   "metadata": {},
   "outputs": [],
   "source": [
    "cols=df.columns.values\n",
    "#cleaning df \n",
    "for i in cols:\n",
    "    \n",
    "    if df[i].dtypes=='float64':\n",
    "        continue\n",
    "    df[i]=pd.to_numeric(df[i], errors='coerce')"
   ]
  },
  {
   "cell_type": "code",
   "execution_count": 19,
   "metadata": {},
   "outputs": [],
   "source": [
    "#filling in n/a  with 0\n",
    "df.fillna(0,inplace=True) \n",
    "#lets normalize the data in df\n",
    "for i in cols:\n",
    "    #print(df4[i].var())\n",
    "    df[i]=(df[i]-df[i].min())/(df[i].max()-df[i].min())"
   ]
  },
  {
   "cell_type": "code",
   "execution_count": 20,
   "metadata": {},
   "outputs": [],
   "source": [
    "X_train, X_val, y_train, y_val = train_test_split(df, y_one_hot, test_size=0.2, random_state=0)"
   ]
  },
  {
   "cell_type": "code",
   "execution_count": 21,
   "metadata": {},
   "outputs": [
    {
     "name": "stdout",
     "output_type": "stream",
     "text": [
      "Epoch 0 completed out of 50 loss: 771982.253418\n",
      "Epoch 2 completed out of 50 loss: 15509.5227966\n",
      "Epoch 4 completed out of 50 loss: 7067.18413925\n",
      "Epoch 6 completed out of 50 loss: 3857.14968681\n",
      "Epoch 8 completed out of 50 loss: 2813.29526424\n",
      "Epoch 10 completed out of 50 loss: 2595.83993125\n",
      "Epoch 12 completed out of 50 loss: 2122.53493595\n",
      "Epoch 14 completed out of 50 loss: 2097.67176247\n",
      "Epoch 16 completed out of 50 loss: 1931.43959379\n",
      "Epoch 18 completed out of 50 loss: 753.521459103\n",
      "Epoch 20 completed out of 50 loss: 749.031815261\n",
      "Epoch 22 completed out of 50 loss: 863.403403759\n",
      "Epoch 24 completed out of 50 loss: 1238.22023106\n",
      "Epoch 26 completed out of 50 loss: 1049.32472149\n",
      "Epoch 28 completed out of 50 loss: 935.120085716\n",
      "Epoch 30 completed out of 50 loss: 1191.7918213\n",
      "Epoch 32 completed out of 50 loss: 1209.63023564\n",
      "Epoch 34 completed out of 50 loss: 1334.45606136\n",
      "Epoch 36 completed out of 50 loss: 1944.17070675\n",
      "Epoch 38 completed out of 50 loss: 3088.0628829\n",
      "Epoch 40 completed out of 50 loss: 1764.04538519\n",
      "Epoch 42 completed out of 50 loss: 2439.53555059\n",
      "Epoch 44 completed out of 50 loss: 1076.68581403\n",
      "Epoch 46 completed out of 50 loss: 822.717448972\n",
      "Epoch 48 completed out of 50 loss: 514.672141552\n",
      "Accuracy_val: 0.98739\n",
      "Accuracy_train: 0.995888\n"
     ]
    }
   ],
   "source": [
    "n_nodes_hl1 = 800\n",
    "n_nodes_hl2 = 500\n",
    "n_nodes_hl3 = 500\n",
    "accuracy=0\n",
    "\n",
    "n_classes = 19\n",
    "batch_size = 200\n",
    "\n",
    "x = tf.placeholder('float', [None, (X_train.shape[1])])\n",
    "y = tf.placeholder('float')\n",
    "train_neural_network(x,1,50)\n",
    "#del X_val,X_train"
   ]
  },
  {
   "cell_type": "markdown",
   "metadata": {},
   "source": [
    "With a less complex model , our hand engineered dataset performs better than raw data, but there still scope for improvement as the baseline is 99.2% as given in the research paper,\n",
    "so now lets use PCA to skim out unnecesary features.\n",
    "\n",
    "It turns our dropout didnt improve the score at all for this neural network so keep_prob=1 (no dropouts)."
   ]
  },
  {
   "cell_type": "code",
   "execution_count": null,
   "metadata": {},
   "outputs": [],
   "source": []
  },
  {
   "cell_type": "markdown",
   "metadata": {},
   "source": [
    "<h1>PCA</h1>"
   ]
  },
  {
   "cell_type": "code",
   "execution_count": 22,
   "metadata": {},
   "outputs": [
    {
     "data": {
      "text/plain": [
       "PCA(copy=True, iterated_power='auto', n_components=200, random_state=None,\n",
       "  svd_solver='auto', tol=0.0, whiten=False)"
      ]
     },
     "execution_count": 22,
     "metadata": {},
     "output_type": "execute_result"
    }
   ],
   "source": [
    "from sklearn.decomposition import PCA\n",
    "pca = PCA(n_components=200)\n",
    "pca.fit(df)"
   ]
  },
  {
   "cell_type": "code",
   "execution_count": 23,
   "metadata": {},
   "outputs": [
    {
     "data": {
      "text/plain": [
       "[<matplotlib.lines.Line2D at 0x7fb2a2d60b70>]"
      ]
     },
     "execution_count": 23,
     "metadata": {},
     "output_type": "execute_result"
    },
    {
     "data": {
      "image/png": "[encoded data removed]",
      "text/plain": [
       "<matplotlib.figure.Figure at 0x7fb2a2d91128>"
      ]
     },
     "metadata": {},
     "output_type": "display_data"
    }
   ],
   "source": [
    "#plotting culiminative variance capured by new features\n",
    "var1=np.cumsum(np.round(pca.explained_variance_ratio_, decimals=4)*100)\n",
    "plt.plot(var1)"
   ]
  },
  {
   "cell_type": "markdown",
   "metadata": {},
   "source": [
    "From the plot we can see 150 is a good choice as it captures most of the variance in data.\n",
    "\n",
    "\n",
    "\n",
    "<h1>Note</h1>- we have to make sure , we generate new features only from X_train  and then apply the same transformation on X_val , if we generate the features out of X_train and X_val together, the validation will leak into our training which is against the idea of builing generalized model and validation."
   ]
  },
  {
   "cell_type": "code",
   "execution_count": 24,
   "metadata": {},
   "outputs": [
    {
     "data": {
      "text/plain": [
       "PCA(copy=True, iterated_power='auto', n_components=150, random_state=None,\n",
       "  svd_solver='auto', tol=0.0, whiten=False)"
      ]
     },
     "execution_count": 24,
     "metadata": {},
     "output_type": "execute_result"
    }
   ],
   "source": [
    "pca = PCA(n_components=150)\n",
    "pca.fit(X_train)"
   ]
  },
  {
   "cell_type": "code",
   "execution_count": 25,
   "metadata": {},
   "outputs": [],
   "source": [
    "X_train=pca.transform(X_train)\n",
    "X_val=pca.transform(X_val)\n",
    "df=pca.transform(df)"
   ]
  },
  {
   "cell_type": "markdown",
   "metadata": {},
   "source": [
    "Alright time to visualize our new features to see how much structure they have captured of different classes."
   ]
  },
  {
   "cell_type": "code",
   "execution_count": 26,
   "metadata": {},
   "outputs": [],
   "source": [
    "#labels in 1-d array\n",
    "y_1d=np.argmax(y_one_hot, axis=1)\n",
    "#columns of new df\n",
    "df=pd.DataFrame(df)\n",
    "cols=df.columns.values\n"
   ]
  },
  {
   "cell_type": "code",
   "execution_count": 27,
   "metadata": {},
   "outputs": [
    {
     "data": {
      "text/plain": [
       "<matplotlib.text.Text at 0x7fb2a2d20550>"
      ]
     },
     "execution_count": 27,
     "metadata": {},
     "output_type": "execute_result"
    },
    {
     "data": {
      "image/png": "[encoded data removed]",
      "text/plain": [
       "<matplotlib.figure.Figure at 0x7fb2a2d089e8>"
      ]
     },
     "metadata": {},
     "output_type": "display_data"
    }
   ],
   "source": [
    "colors=[i%23 for i in y_1d]\n",
    "plt.scatter(df[cols[0]], df[cols[1]], c=colors)\n",
    "plt.xlabel(\"feature0\")\n",
    "plt.ylabel(\"feature1\")"
   ]
  },
  {
   "cell_type": "code",
   "execution_count": 28,
   "metadata": {},
   "outputs": [
    {
     "data": {
      "text/plain": [
       "<matplotlib.text.Text at 0x7fb2a2bf7d30>"
      ]
     },
     "execution_count": 28,
     "metadata": {},
     "output_type": "execute_result"
    },
    {
     "data": {
      "image/png": "[encoded data removed]",
      "text/plain": [
       "<matplotlib.figure.Figure at 0x7fb2a2cb5710>"
      ]
     },
     "metadata": {},
     "output_type": "display_data"
    }
   ],
   "source": [
    "plt.scatter(df[cols[1]], df[cols[2]], c=colors)\n",
    "plt.xlabel(\"feature1\")\n",
    "plt.ylabel(\"feature2\")"
   ]
  },
  {
   "cell_type": "code",
   "execution_count": 29,
   "metadata": {},
   "outputs": [
    {
     "data": {
      "text/plain": [
       "<matplotlib.text.Text at 0x7fb2a2be3898>"
      ]
     },
     "execution_count": 29,
     "metadata": {},
     "output_type": "execute_result"
    },
    {
     "data": {
      "image/png": "[encoded data removed]",
      "text/plain": [
       "<matplotlib.figure.Figure at 0x7fb2a2c05438>"
      ]
     },
     "metadata": {},
     "output_type": "display_data"
    }
   ],
   "source": [
    "plt.scatter(df[cols[2]], df[cols[3]], c=colors)\n",
    "plt.xlabel(\"feature2\")\n",
    "plt.ylabel(\"feature3\")"
   ]
  },
  {
   "cell_type": "markdown",
   "metadata": {},
   "source": [
    "We can see datapoints of a particular class are mostly grouped together and we can easily see classes are distinguishabled in our new features.\n",
    "\n",
    "\n",
    "Okay great!our new features are distinguising classes pretty clearly , we have managed to retain information in our features and they are capturing the structure just fine.\n",
    "\n",
    "\n",
    "Alright lets make a train set and validation set ."
   ]
  },
  {
   "cell_type": "code",
   "execution_count": 60,
   "metadata": {},
   "outputs": [
    {
     "name": "stdout",
     "output_type": "stream",
     "text": [
      "Epoch 0 completed out of 80 loss: 233256.006104\n",
      "Epoch 2 completed out of 80 loss: 3989.10858536\n",
      "Epoch 4 completed out of 80 loss: 1076.72021556\n",
      "Epoch 6 completed out of 80 loss: 486.554423809\n",
      "Epoch 8 completed out of 80 loss: 239.005416919\n",
      "Epoch 10 completed out of 80 loss: 127.065562201\n",
      "Epoch 12 completed out of 80 loss: 66.3443169966\n",
      "Epoch 14 completed out of 80 loss: 57.5907511155\n",
      "Epoch 16 completed out of 80 loss: 41.3434601426\n",
      "Epoch 18 completed out of 80 loss: 31.9712599067\n",
      "Epoch 20 completed out of 80 loss: 15.8523635071\n",
      "Epoch 22 completed out of 80 loss: 11.8089497044\n",
      "Epoch 24 completed out of 80 loss: 30.5320037384\n",
      "Epoch 26 completed out of 80 loss: 11.740680473\n",
      "Epoch 28 completed out of 80 loss: 31.3815636251\n",
      "Epoch 30 completed out of 80 loss: 19.0059097894\n",
      "Epoch 32 completed out of 80 loss: 49.4145848101\n",
      "Epoch 34 completed out of 80 loss: 14.7372584641\n",
      "Epoch 36 completed out of 80 loss: 49.9790085554\n",
      "Epoch 38 completed out of 80 loss: 29.6727397032\n",
      "Epoch 40 completed out of 80 loss: 32.6638204799\n",
      "Epoch 42 completed out of 80 loss: 32.3385408841\n",
      "Epoch 44 completed out of 80 loss: 71.5739846826\n",
      "Epoch 46 completed out of 80 loss: 23.545410201\n",
      "Epoch 48 completed out of 80 loss: 23.4088403201\n",
      "Epoch 50 completed out of 80 loss: 32.7302846056\n",
      "Epoch 52 completed out of 80 loss: 16.5064669847\n",
      "Epoch 54 completed out of 80 loss: 4.65910003394\n",
      "Epoch 56 completed out of 80 loss: 4.61752437055\n",
      "Epoch 58 completed out of 80 loss: 8.71504378319\n",
      "Epoch 60 completed out of 80 loss: 7.30604428053\n",
      "Epoch 62 completed out of 80 loss: 0.375600576401\n",
      "Epoch 64 completed out of 80 loss: 1.08279788494\n",
      "Epoch 66 completed out of 80 loss: 1.80486816227\n",
      "Epoch 68 completed out of 80 loss: 4.50014442205\n",
      "Epoch 70 completed out of 80 loss: 16.7796727383\n",
      "Epoch 72 completed out of 80 loss: 8.72757825255\n",
      "Epoch 74 completed out of 80 loss: 11.2184342593\n",
      "Epoch 76 completed out of 80 loss: 22.3683989346\n",
      "Epoch 78 completed out of 80 loss: 21.3830274493\n",
      "Accuracy_val: 0.982456\n",
      "Accuracy_train: 0.998766\n"
     ]
    }
   ],
   "source": [
    "n_nodes_hl1 = 1000\n",
    "n_nodes_hl2 = 500\n",
    "n_nodes_hl3 = 100\n",
    "accuracy=0\n",
    "\n",
    "n_classes = 19\n",
    "batch_size = 200\n",
    "\n",
    "x = tf.placeholder('float', [None, (X_train.shape[1])])\n",
    "y = tf.placeholder('float')\n",
    "train_neural_network(x,1,80)"
   ]
  },
  {
   "cell_type": "markdown",
   "metadata": {},
   "source": [
    "Great , we have achieved accuracy of 0.98 , i am sure if we let the mode train a bit more , we can achieve 0.99 accuracy but lets see how other descent algorithms work.\n",
    "\n",
    "Again dopout didnt help."
   ]
  },
  {
   "cell_type": "markdown",
   "metadata": {},
   "source": [
    "Also i use 4 different methods for optimization adam,rmsprop,momentum and gradien descent , adam optimizer convereged fastest and i would recommend it over the others."
   ]
  },
  {
   "cell_type": "code",
   "execution_count": null,
   "metadata": {},
   "outputs": [],
   "source": []
  },
  {
   "cell_type": "markdown",
   "metadata": {},
   "source": [
    "Okay time to see how other models fare . We will be using logistic regression,KNN, naive bayes(2 versions) and gradient boosting.We will be using hand engineered features."
   ]
  },
  {
   "cell_type": "code",
   "execution_count": 30,
   "metadata": {},
   "outputs": [],
   "source": [
    "from sklearn.linear_model import LogisticRegression\n",
    "y_val=pd.DataFrame(y_val)         #converting np.arrays into dataframe, as we will be using one vs all classification\n",
    "y_train=pd.DataFrame(y_train)     #so to make data handling easier we make them dataframe.\n",
    "target_col=y_val.columns.values"
   ]
  },
  {
   "cell_type": "code",
   "execution_count": 31,
   "metadata": {},
   "outputs": [
    {
     "name": "stdout",
     "output_type": "stream",
     "text": [
      "Building 0 model for column:0\n",
      "Building 1 model for column:1\n",
      "Building 2 model for column:2\n",
      "Building 3 model for column:3\n",
      "Building 4 model for column:4\n",
      "Building 5 model for column:5\n",
      "Building 6 model for column:6\n",
      "Building 7 model for column:7\n",
      "Building 8 model for column:8\n",
      "Building 9 model for column:9\n",
      "Building 10 model for column:10\n",
      "Building 11 model for column:11\n",
      "Building 12 model for column:12\n",
      "Building 13 model for column:13\n",
      "Building 14 model for column:14\n",
      "Building 15 model for column:15\n",
      "Building 16 model for column:16\n",
      "Building 17 model for column:17\n",
      "Building 18 model for column:18\n"
     ]
    }
   ],
   "source": [
    "prd = np.zeros((X_val.shape[0],19))\n",
    "models={}\n",
    "for i,col in enumerate(target_col):\n",
    "    models[i] = LogisticRegression(C=4,random_state = i)\n",
    "    print('Building {} model for column:{''}'.format(i,col)) \n",
    "    models[i].fit(X_train,y_train[col])\n",
    "    #print(models[i].score())\n",
    "    prd[:,i] = models[i].predict_proba(X_val)[:,1]"
   ]
  },
  {
   "cell_type": "markdown",
   "metadata": {},
   "source": [
    "Okay now lets calculate accuracy of our model."
   ]
  },
  {
   "cell_type": "code",
   "execution_count": 32,
   "metadata": {},
   "outputs": [
    {
     "name": "stdout",
     "output_type": "stream",
     "text": [
      "0.990679824561\n"
     ]
    }
   ],
   "source": [
    "predicton_logit=np.argmax(prd, axis=1)\n",
    "ground_truth=np.argmax(np.array(y_val), axis=1)\n",
    "accuracy = accuracy_score(ground_truth, predicton_logit)\n",
    "\n",
    "print(accuracy)\n",
    "        "
   ]
  },
  {
   "cell_type": "markdown",
   "metadata": {},
   "source": [
    "Great! logistic regression is performing great, this also tells us our neural network is overfitting so mabe we should use regularization like dropouts. \n",
    "\n",
    "\n",
    "\n",
    "\n",
    "\n",
    "\n",
    "Okay now we will see how knn performs but before that we need to change our target labels , as knn doesnt work with one hot encoded target , we will convet it into 1-d array , with values between 0-18 , representing the 19 classes."
   ]
  },
  {
   "cell_type": "code",
   "execution_count": 33,
   "metadata": {},
   "outputs": [],
   "source": [
    "y_train_knn=np.argmax(np.array(y_train), axis=1)\n",
    "y_val_knn=np.argmax(np.array(y_val), axis=1)"
   ]
  },
  {
   "cell_type": "code",
   "execution_count": 34,
   "metadata": {},
   "outputs": [
    {
     "name": "stdout",
     "output_type": "stream",
     "text": [
      "[14  9 14 ...,  6  6  3]\n"
     ]
    }
   ],
   "source": [
    "from sklearn.neighbors import KNeighborsClassifier\n",
    "neigh = KNeighborsClassifier(n_neighbors=5)\n",
    "neigh.fit(X_train, y_train_knn)\n",
    "pred_knn=neigh.predict(X_val)\n",
    "print(pred_knn)"
   ]
  },
  {
   "cell_type": "code",
   "execution_count": 35,
   "metadata": {},
   "outputs": [
    {
     "data": {
      "text/plain": [
       "0.98629385964912286"
      ]
     },
     "execution_count": 35,
     "metadata": {},
     "output_type": "execute_result"
    }
   ],
   "source": [
    "accuracy = accuracy_score(y_val_knn, pred_knn)\n",
    "accuracy"
   ]
  },
  {
   "cell_type": "markdown",
   "metadata": {},
   "source": [
    " After tuning a  little bit ,n_neighbors=5 seemed to be the optimum value.\n",
    " \n",
    "Alright, lets see how naive bayes perform."
   ]
  },
  {
   "cell_type": "code",
   "execution_count": 36,
   "metadata": {},
   "outputs": [
    {
     "name": "stdout",
     "output_type": "stream",
     "text": [
      "[14  9 14 ...,  6  6  3]\n"
     ]
    }
   ],
   "source": [
    "from sklearn.naive_bayes import GaussianNB\n",
    "gnb = GaussianNB()\n",
    "gnb.fit(X_train, y_train_knn)\n",
    "pred_nb=gnb.predict(X_val)\n",
    "print(pred_knn)"
   ]
  },
  {
   "cell_type": "code",
   "execution_count": 37,
   "metadata": {},
   "outputs": [
    {
     "name": "stdout",
     "output_type": "stream",
     "text": [
      "0.947916666667\n"
     ]
    }
   ],
   "source": [
    "accuracy = accuracy_score(ground_truth, pred_nb)\n",
    "print(accuracy)"
   ]
  },
  {
   "cell_type": "code",
   "execution_count": 38,
   "metadata": {},
   "outputs": [
    {
     "name": "stdout",
     "output_type": "stream",
     "text": [
      "[14  9 14 ...,  6  6  3]\n"
     ]
    }
   ],
   "source": [
    "from sklearn.naive_bayes import BernoulliNB\n",
    "mnb = BernoulliNB()\n",
    "mnb.fit(X_train, y_train_knn)\n",
    "pred_nb=mnb.predict(X_val)\n",
    "print(pred_knn)"
   ]
  },
  {
   "cell_type": "code",
   "execution_count": 39,
   "metadata": {},
   "outputs": [
    {
     "name": "stdout",
     "output_type": "stream",
     "text": [
      "0.964364035088\n"
     ]
    }
   ],
   "source": [
    "\n",
    "accuracy = accuracy_score(ground_truth, pred_nb)\n",
    "print(accuracy)"
   ]
  },
  {
   "cell_type": "code",
   "execution_count": null,
   "metadata": {},
   "outputs": [],
   "source": []
  },
  {
   "cell_type": "markdown",
   "metadata": {},
   "source": [
    "Okay , now we will see how gradient boosting tree works.\n",
    "\n",
    "Fist lets convert y labels into arrays xgboost can work with , same as we did for knn model."
   ]
  },
  {
   "cell_type": "code",
   "execution_count": 40,
   "metadata": {},
   "outputs": [],
   "source": [
    "y_train_xg=np.argmax(np.array(y_train), axis=1)\n",
    "y_val_xg=np.argmax(np.array(y_val), axis=1)"
   ]
  },
  {
   "cell_type": "code",
   "execution_count": 308,
   "metadata": {},
   "outputs": [
    {
     "name": "stdout",
     "output_type": "stream",
     "text": [
      "[0]\ttrain-merror:0.026316\ttest-merror:0.069079\n",
      "[1]\ttrain-merror:0.021382\ttest-merror:0.055373\n",
      "[2]\ttrain-merror:0.019326\ttest-merror:0.052632\n",
      "[3]\ttrain-merror:0.017544\ttest-merror:0.04989\n",
      "[4]\ttrain-merror:0.01494\ttest-merror:0.045504\n",
      "[5]\ttrain-merror:0.013021\ttest-merror:0.045504\n",
      "[6]\ttrain-merror:0.012198\ttest-merror:0.041118\n",
      "[7]\ttrain-merror:0.012198\ttest-merror:0.038377\n",
      "[8]\ttrain-merror:0.011924\ttest-merror:0.037281\n",
      "[9]\ttrain-merror:0.010691\ttest-merror:0.035636\n",
      "[10]\ttrain-merror:0.010828\ttest-merror:0.036184\n",
      "[11]\ttrain-merror:0.010828\ttest-merror:0.035636\n",
      "[12]\ttrain-merror:0.010417\ttest-merror:0.035088\n",
      "[13]\ttrain-merror:0.010005\ttest-merror:0.033991\n",
      "[14]\ttrain-merror:0.010005\ttest-merror:0.032346\n",
      "[15]\ttrain-merror:0.009868\ttest-merror:0.030702\n",
      "[16]\ttrain-merror:0.009594\ttest-merror:0.030154\n",
      "[17]\ttrain-merror:0.009457\ttest-merror:0.029057\n",
      "[18]\ttrain-merror:0.00932\ttest-merror:0.027412\n",
      "[19]\ttrain-merror:0.009183\ttest-merror:0.026864\n",
      "[20]\ttrain-merror:0.009046\ttest-merror:0.026864\n",
      "[21]\ttrain-merror:0.008909\ttest-merror:0.025768\n",
      "[22]\ttrain-merror:0.008498\ttest-merror:0.024671\n",
      "[23]\ttrain-merror:0.008361\ttest-merror:0.024123\n",
      "[24]\ttrain-merror:0.007675\ttest-merror:0.024123\n",
      "[25]\ttrain-merror:0.007675\ttest-merror:0.023575\n",
      "[26]\ttrain-merror:0.007401\ttest-merror:0.023575\n",
      "[27]\ttrain-merror:0.007264\ttest-merror:0.023575\n",
      "[28]\ttrain-merror:0.00699\ttest-merror:0.023026\n",
      "[29]\ttrain-merror:0.006853\ttest-merror:0.023026\n",
      "[30]\ttrain-merror:0.006442\ttest-merror:0.023026\n",
      "[31]\ttrain-merror:0.006442\ttest-merror:0.023026\n",
      "[32]\ttrain-merror:0.006442\ttest-merror:0.022478\n",
      "[33]\ttrain-merror:0.006168\ttest-merror:0.02193\n",
      "[34]\ttrain-merror:0.005757\ttest-merror:0.021382\n",
      "[35]\ttrain-merror:0.00562\ttest-merror:0.021382\n",
      "[36]\ttrain-merror:0.00562\ttest-merror:0.021382\n",
      "[37]\ttrain-merror:0.00562\ttest-merror:0.021382\n",
      "[38]\ttrain-merror:0.005757\ttest-merror:0.020833\n",
      "[39]\ttrain-merror:0.005757\ttest-merror:0.020833\n",
      "[40]\ttrain-merror:0.005345\ttest-merror:0.020285\n",
      "[41]\ttrain-merror:0.005071\ttest-merror:0.020285\n",
      "[42]\ttrain-merror:0.004934\ttest-merror:0.019737\n",
      "[43]\ttrain-merror:0.004934\ttest-merror:0.019737\n",
      "[44]\ttrain-merror:0.004934\ttest-merror:0.020285\n",
      "[45]\ttrain-merror:0.004797\ttest-merror:0.019737\n",
      "[46]\ttrain-merror:0.004797\ttest-merror:0.019737\n",
      "[47]\ttrain-merror:0.00466\ttest-merror:0.019737\n",
      "[48]\ttrain-merror:0.004386\ttest-merror:0.019737\n",
      "[49]\ttrain-merror:0.004249\ttest-merror:0.019737\n",
      "[50]\ttrain-merror:0.004249\ttest-merror:0.019737\n",
      "[51]\ttrain-merror:0.003975\ttest-merror:0.019189\n",
      "[52]\ttrain-merror:0.003975\ttest-merror:0.019189\n",
      "[53]\ttrain-merror:0.003975\ttest-merror:0.019189\n",
      "[54]\ttrain-merror:0.003838\ttest-merror:0.019189\n",
      "[55]\ttrain-merror:0.003838\ttest-merror:0.019189\n",
      "[56]\ttrain-merror:0.003838\ttest-merror:0.019189\n",
      "[57]\ttrain-merror:0.003838\ttest-merror:0.019189\n",
      "[58]\ttrain-merror:0.003975\ttest-merror:0.019189\n",
      "[59]\ttrain-merror:0.003838\ttest-merror:0.019189\n",
      "[60]\ttrain-merror:0.003838\ttest-merror:0.019189\n",
      "[61]\ttrain-merror:0.003975\ttest-merror:0.019189\n",
      "[62]\ttrain-merror:0.003975\ttest-merror:0.019189\n",
      "[63]\ttrain-merror:0.003975\ttest-merror:0.019189\n",
      "[64]\ttrain-merror:0.003975\ttest-merror:0.01864\n",
      "[65]\ttrain-merror:0.003975\ttest-merror:0.017544\n",
      "[66]\ttrain-merror:0.003975\ttest-merror:0.017544\n",
      "[67]\ttrain-merror:0.003975\ttest-merror:0.016447\n",
      "[68]\ttrain-merror:0.003975\ttest-merror:0.016447\n",
      "[69]\ttrain-merror:0.003975\ttest-merror:0.016447\n",
      "[70]\ttrain-merror:0.003701\ttest-merror:0.016447\n",
      "[71]\ttrain-merror:0.003701\ttest-merror:0.016447\n",
      "[72]\ttrain-merror:0.003701\ttest-merror:0.016447\n",
      "[73]\ttrain-merror:0.003701\ttest-merror:0.016447\n",
      "[74]\ttrain-merror:0.003564\ttest-merror:0.016447\n",
      "[75]\ttrain-merror:0.003427\ttest-merror:0.016447\n",
      "[76]\ttrain-merror:0.003289\ttest-merror:0.016447\n",
      "[77]\ttrain-merror:0.003152\ttest-merror:0.016447\n",
      "[78]\ttrain-merror:0.003152\ttest-merror:0.016447\n",
      "[79]\ttrain-merror:0.003015\ttest-merror:0.016447\n",
      "[80]\ttrain-merror:0.003015\ttest-merror:0.016447\n",
      "[81]\ttrain-merror:0.003015\ttest-merror:0.016447\n",
      "[82]\ttrain-merror:0.003015\ttest-merror:0.016447\n",
      "[83]\ttrain-merror:0.002741\ttest-merror:0.016447\n",
      "[84]\ttrain-merror:0.002741\ttest-merror:0.016447\n",
      "[85]\ttrain-merror:0.002741\ttest-merror:0.016447\n",
      "[86]\ttrain-merror:0.002741\ttest-merror:0.016447\n",
      "[87]\ttrain-merror:0.002604\ttest-merror:0.016447\n",
      "[88]\ttrain-merror:0.002604\ttest-merror:0.016996\n",
      "[89]\ttrain-merror:0.002604\ttest-merror:0.016996\n",
      "[90]\ttrain-merror:0.002604\ttest-merror:0.016996\n",
      "[91]\ttrain-merror:0.002604\ttest-merror:0.016996\n",
      "[92]\ttrain-merror:0.002604\ttest-merror:0.016996\n",
      "[93]\ttrain-merror:0.002604\ttest-merror:0.016996\n",
      "[94]\ttrain-merror:0.002604\ttest-merror:0.016996\n",
      "[95]\ttrain-merror:0.002467\ttest-merror:0.016996\n",
      "[96]\ttrain-merror:0.002467\ttest-merror:0.016996\n",
      "[97]\ttrain-merror:0.002467\ttest-merror:0.016996\n",
      "[98]\ttrain-merror:0.002467\ttest-merror:0.016996\n",
      "[99]\ttrain-merror:0.002467\ttest-merror:0.017544\n",
      "[100]\ttrain-merror:0.002467\ttest-merror:0.017544\n",
      "[101]\ttrain-merror:0.002467\ttest-merror:0.016996\n",
      "[102]\ttrain-merror:0.002604\ttest-merror:0.016996\n",
      "[103]\ttrain-merror:0.002467\ttest-merror:0.016996\n",
      "[104]\ttrain-merror:0.00233\ttest-merror:0.016996\n",
      "[105]\ttrain-merror:0.00233\ttest-merror:0.016996\n",
      "[106]\ttrain-merror:0.002467\ttest-merror:0.016996\n",
      "[107]\ttrain-merror:0.00233\ttest-merror:0.016996\n",
      "[108]\ttrain-merror:0.00233\ttest-merror:0.016996\n",
      "[109]\ttrain-merror:0.00233\ttest-merror:0.016996\n",
      "[110]\ttrain-merror:0.002193\ttest-merror:0.016996\n",
      "[111]\ttrain-merror:0.002193\ttest-merror:0.016996\n",
      "[112]\ttrain-merror:0.002056\ttest-merror:0.016996\n",
      "[113]\ttrain-merror:0.002056\ttest-merror:0.016996\n",
      "[114]\ttrain-merror:0.001919\ttest-merror:0.016996\n",
      "[115]\ttrain-merror:0.001782\ttest-merror:0.016996\n",
      "[116]\ttrain-merror:0.001919\ttest-merror:0.016996\n",
      "[117]\ttrain-merror:0.001782\ttest-merror:0.016996\n",
      "[118]\ttrain-merror:0.001645\ttest-merror:0.016996\n",
      "[119]\ttrain-merror:0.001645\ttest-merror:0.016996\n",
      "[120]\ttrain-merror:0.001645\ttest-merror:0.016996\n",
      "[121]\ttrain-merror:0.001645\ttest-merror:0.016996\n",
      "[122]\ttrain-merror:0.001645\ttest-merror:0.016996\n",
      "[123]\ttrain-merror:0.001645\ttest-merror:0.016447\n",
      "[124]\ttrain-merror:0.001645\ttest-merror:0.016447\n",
      "[125]\ttrain-merror:0.001645\ttest-merror:0.016447\n",
      "[126]\ttrain-merror:0.001645\ttest-merror:0.016447\n",
      "[127]\ttrain-merror:0.001645\ttest-merror:0.016447\n",
      "[128]\ttrain-merror:0.001508\ttest-merror:0.016447\n",
      "[129]\ttrain-merror:0.001508\ttest-merror:0.016447\n",
      "[130]\ttrain-merror:0.001508\ttest-merror:0.016447\n",
      "[131]\ttrain-merror:0.001508\ttest-merror:0.016447\n",
      "[132]\ttrain-merror:0.001508\ttest-merror:0.016447\n",
      "[133]\ttrain-merror:0.001508\ttest-merror:0.016447\n",
      "[134]\ttrain-merror:0.001371\ttest-merror:0.016447\n",
      "[135]\ttrain-merror:0.001371\ttest-merror:0.016447\n",
      "[136]\ttrain-merror:0.001371\ttest-merror:0.016447\n",
      "[137]\ttrain-merror:0.001234\ttest-merror:0.016447\n",
      "[138]\ttrain-merror:0.001234\ttest-merror:0.015899\n",
      "[139]\ttrain-merror:0.001234\ttest-merror:0.015899\n",
      "[140]\ttrain-merror:0.001234\ttest-merror:0.015899\n",
      "[141]\ttrain-merror:0.001234\ttest-merror:0.015899\n",
      "[142]\ttrain-merror:0.001234\ttest-merror:0.015899\n",
      "[143]\ttrain-merror:0.001096\ttest-merror:0.015899\n",
      "[144]\ttrain-merror:0.001096\ttest-merror:0.015899\n",
      "[145]\ttrain-merror:0.001096\ttest-merror:0.015899\n",
      "[146]\ttrain-merror:0.000822\ttest-merror:0.015899\n",
      "[147]\ttrain-merror:0.000822\ttest-merror:0.015899\n",
      "[148]\ttrain-merror:0.000822\ttest-merror:0.015899\n",
      "[149]\ttrain-merror:0.000822\ttest-merror:0.015899\n",
      "[150]\ttrain-merror:0.000822\ttest-merror:0.015899\n",
      "[151]\ttrain-merror:0.000822\ttest-merror:0.015899\n",
      "[152]\ttrain-merror:0.000685\ttest-merror:0.015899\n",
      "[153]\ttrain-merror:0.000685\ttest-merror:0.015899\n",
      "[154]\ttrain-merror:0.000685\ttest-merror:0.015899\n",
      "[155]\ttrain-merror:0.000685\ttest-merror:0.015899\n",
      "[156]\ttrain-merror:0.000685\ttest-merror:0.015899\n",
      "[157]\ttrain-merror:0.000685\ttest-merror:0.015899\n",
      "[158]\ttrain-merror:0.000685\ttest-merror:0.015899\n",
      "[159]\ttrain-merror:0.000548\ttest-merror:0.015899\n",
      "[160]\ttrain-merror:0.000548\ttest-merror:0.015899\n",
      "[161]\ttrain-merror:0.000548\ttest-merror:0.016447\n",
      "[162]\ttrain-merror:0.000548\ttest-merror:0.016447\n",
      "[163]\ttrain-merror:0.000548\ttest-merror:0.016447\n",
      "[164]\ttrain-merror:0.000548\ttest-merror:0.016447\n",
      "[165]\ttrain-merror:0.000411\ttest-merror:0.016447\n",
      "[166]\ttrain-merror:0.000411\ttest-merror:0.016447\n",
      "[167]\ttrain-merror:0.000411\ttest-merror:0.016447\n",
      "[168]\ttrain-merror:0.000411\ttest-merror:0.016447\n",
      "[169]\ttrain-merror:0.000411\ttest-merror:0.016447\n"
     ]
    },
    {
     "name": "stdout",
     "output_type": "stream",
     "text": [
      "[170]\ttrain-merror:0.000411\ttest-merror:0.016447\n",
      "[171]\ttrain-merror:0.000411\ttest-merror:0.016447\n",
      "[172]\ttrain-merror:0.000411\ttest-merror:0.016447\n",
      "[173]\ttrain-merror:0.000411\ttest-merror:0.016447\n",
      "[174]\ttrain-merror:0.000411\ttest-merror:0.016447\n",
      "[175]\ttrain-merror:0.000411\ttest-merror:0.016447\n",
      "[176]\ttrain-merror:0.000411\ttest-merror:0.016447\n",
      "[177]\ttrain-merror:0.000411\ttest-merror:0.016447\n",
      "[178]\ttrain-merror:0.000411\ttest-merror:0.015899\n",
      "[179]\ttrain-merror:0.000411\ttest-merror:0.015899\n",
      "[180]\ttrain-merror:0.000411\ttest-merror:0.015899\n",
      "[181]\ttrain-merror:0.000411\ttest-merror:0.015899\n",
      "[182]\ttrain-merror:0.000274\ttest-merror:0.015899\n",
      "[183]\ttrain-merror:0.000274\ttest-merror:0.015899\n",
      "[184]\ttrain-merror:0.000274\ttest-merror:0.015899\n",
      "[185]\ttrain-merror:0.000274\ttest-merror:0.015899\n",
      "[186]\ttrain-merror:0.000274\ttest-merror:0.015899\n",
      "[187]\ttrain-merror:0.000274\ttest-merror:0.015899\n",
      "[188]\ttrain-merror:0.000274\ttest-merror:0.015899\n",
      "[189]\ttrain-merror:0.000274\ttest-merror:0.015351\n",
      "[190]\ttrain-merror:0.000274\ttest-merror:0.015351\n",
      "[191]\ttrain-merror:0.000274\ttest-merror:0.014803\n",
      "[192]\ttrain-merror:0.000137\ttest-merror:0.014803\n",
      "[193]\ttrain-merror:0.000137\ttest-merror:0.014254\n",
      "[194]\ttrain-merror:0.000137\ttest-merror:0.014254\n",
      "[195]\ttrain-merror:0.000137\ttest-merror:0.014254\n",
      "[196]\ttrain-merror:0.000137\ttest-merror:0.014254\n",
      "[197]\ttrain-merror:0.000137\ttest-merror:0.014254\n",
      "[198]\ttrain-merror:0.000137\ttest-merror:0.014254\n",
      "[199]\ttrain-merror:0.000137\ttest-merror:0.014803\n"
     ]
    }
   ],
   "source": [
    "\n",
    "import xgboost as xgb\n",
    "\n",
    "xg_train = xgb.DMatrix(X_train, label=y_train_xg)\n",
    "xg_test = xgb.DMatrix(X_val, label=y_val_xg)\n",
    "# setup parameters for xgboost\n",
    "param = {}\n",
    "# use softmax multi-class classification\n",
    "param['objective'] = 'multi:softmax'\n",
    "# scale weight of positive examples\n",
    "param['eta'] = 0.02\n",
    "param['max_depth'] = 6\n",
    "param['silent'] = 0\n",
    "param['nthread'] = 4\n",
    "param['num_class'] = 19\n",
    "\n",
    "watchlist = [(xg_train, 'train'), (xg_test, 'test')]\n",
    "num_round = 200\n",
    "bst = xgb.train(param, xg_train, num_round, watchlist)\n",
    "# get prediction\n",
    "pred = bst.predict(xg_test)\n",
    "#error_rate = np.sum(pred != test_Y) / test_Y.shape[0]"
   ]
  },
  {
   "cell_type": "code",
   "execution_count": 309,
   "metadata": {},
   "outputs": [
    {
     "data": {
      "text/plain": [
       "0.98519736842105265"
      ]
     },
     "execution_count": 309,
     "metadata": {},
     "output_type": "execute_result"
    }
   ],
   "source": [
    "accuracy = accuracy_score(y_val_xg, pred)\n",
    "accuracy"
   ]
  },
  {
   "cell_type": "markdown",
   "metadata": {},
   "source": [
    "After tuning a little bit , I was able to bring the cost down to 0.98 , interestingly , if we increase num_round to 500 , we can get 0.99 accuracy but we also get 0 errror on training set , maybe the model wont generalize well , so lets stick to thos model only.\n",
    "\n",
    "<h1>Task 2</h1>"
   ]
  },
  {
   "cell_type": "markdown",
   "metadata": {},
   "source": [
    "<br>Activity wise data to predict which subject this belongs to</br>"
   ]
  },
  {
   "cell_type": "markdown",
   "metadata": {},
   "source": [
    "In this problem we simply use the same data we found through PCA on our hand engineered data, we just need to change y labels of acivity to labels represing participants , so we will have 8 groups to classify data to."
   ]
  },
  {
   "cell_type": "code",
   "execution_count": 41,
   "metadata": {},
   "outputs": [],
   "source": [
    "y_new_one_hot=np.zeros([df.shape[0], 8])\n",
    "row_index=0\n",
    "for i in range(19):\n",
    "    for j in range(8):\n",
    "        for seg in range(60):\n",
    "            y_new_one_hot[row_index][j]=1\n",
    "            row_index=row_index+1\n",
    "            \n",
    "\n"
   ]
  },
  {
   "cell_type": "markdown",
   "metadata": {},
   "source": [
    "Okay now we have correct y labels in one hot encoded form i.e if y[i][2]=1, then ith row in our data belongs to 2nd participant.\n",
    "\n",
    "Now lets split them into traing and validation set."
   ]
  },
  {
   "cell_type": "code",
   "execution_count": 42,
   "metadata": {},
   "outputs": [
    {
     "data": {
      "text/plain": [
       "(7296, 150)"
      ]
     },
     "execution_count": 42,
     "metadata": {},
     "output_type": "execute_result"
    }
   ],
   "source": [
    "X_train, X_val, y_train, y_val = train_test_split(df, y_new_one_hot, test_size=0.2, random_state=8)\n",
    "X_train.shape"
   ]
  },
  {
   "cell_type": "markdown",
   "metadata": {},
   "source": [
    "Now lets train a neural network."
   ]
  },
  {
   "cell_type": "code",
   "execution_count": 43,
   "metadata": {},
   "outputs": [
    {
     "name": "stdout",
     "output_type": "stream",
     "text": [
      "Epoch 0 completed out of 50 loss: 523747.547852\n",
      "Epoch 2 completed out of 50 loss: 31980.8136292\n",
      "Epoch 4 completed out of 50 loss: 10423.7449341\n",
      "Epoch 6 completed out of 50 loss: 4600.26736355\n",
      "Epoch 8 completed out of 50 loss: 2034.79067612\n",
      "Epoch 10 completed out of 50 loss: 1258.63822508\n",
      "Epoch 12 completed out of 50 loss: 1361.2800879\n",
      "Epoch 14 completed out of 50 loss: 1073.96883643\n",
      "Epoch 16 completed out of 50 loss: 3571.8354426\n",
      "Epoch 18 completed out of 50 loss: 708.037859201\n",
      "Epoch 20 completed out of 50 loss: 355.594692796\n",
      "Epoch 22 completed out of 50 loss: 416.226055622\n",
      "Epoch 24 completed out of 50 loss: 1427.80731928\n",
      "Epoch 26 completed out of 50 loss: 738.056595922\n",
      "Epoch 28 completed out of 50 loss: 966.297485828\n",
      "Epoch 30 completed out of 50 loss: 2310.4703908\n",
      "Epoch 32 completed out of 50 loss: 491.002877712\n",
      "Epoch 34 completed out of 50 loss: 2769.61142468\n",
      "Epoch 36 completed out of 50 loss: 1156.61580884\n",
      "Epoch 38 completed out of 50 loss: 440.214432716\n",
      "Epoch 40 completed out of 50 loss: 1455.53124332\n",
      "Epoch 42 completed out of 50 loss: 1369.12762716\n",
      "Epoch 44 completed out of 50 loss: 574.81785514\n",
      "Epoch 46 completed out of 50 loss: 289.561028488\n",
      "Epoch 48 completed out of 50 loss: 436.976633102\n",
      "Accuracy_val: 0.9375\n",
      "Accuracy_train: 0.98972\n"
     ]
    }
   ],
   "source": [
    "n_nodes_hl1 = 1000\n",
    "n_nodes_hl2 = 1000\n",
    "n_nodes_hl3 = 1000\n",
    "accuracy=0\n",
    "\n",
    "n_classes = 8\n",
    "batch_size = 250\n",
    "\n",
    "x = tf.placeholder('float', [None, (X_train.shape[1])])\n",
    "y = tf.placeholder('float')\n",
    "train_neural_network(x,1,50)"
   ]
  },
  {
   "cell_type": "markdown",
   "metadata": {},
   "source": [
    "Unfortunately it seems its overfitting  ,elst see how logistic regression performs."
   ]
  },
  {
   "cell_type": "code",
   "execution_count": 44,
   "metadata": {},
   "outputs": [],
   "source": [
    "y_val=pd.DataFrame(y_val)         #converting np.arrays into dataframe, as we will be using one vs all classification\n",
    "\n",
    "y_train=pd.DataFrame(y_train)     #so to make data handling easier we make them dataframe.\n",
    "target_col=y_val.columns.values"
   ]
  },
  {
   "cell_type": "code",
   "execution_count": 45,
   "metadata": {},
   "outputs": [
    {
     "name": "stdout",
     "output_type": "stream",
     "text": [
      "Building 0 model for column:0\n",
      "Building 1 model for column:1\n",
      "Building 2 model for column:2\n",
      "Building 3 model for column:3\n",
      "Building 4 model for column:4\n",
      "Building 5 model for column:5\n",
      "Building 6 model for column:6\n",
      "Building 7 model for column:7\n"
     ]
    }
   ],
   "source": [
    "from sklearn.linear_model import LogisticRegression\n",
    "prd = np.zeros((X_val.shape[0],8))\n",
    "models2={}\n",
    "for i,col in enumerate(target_col):\n",
    "    models2[i] = LogisticRegression(C=4,random_state = i)\n",
    "    print('Building {} model for column:{''}'.format(i,col)) \n",
    "    models2[i].fit(X_train,y_train[col])\n",
    "    #print(models[i].score())\n",
    "    prd[:,i] = models2[i].predict_proba(X_val)[:,1]"
   ]
  },
  {
   "cell_type": "code",
   "execution_count": 46,
   "metadata": {},
   "outputs": [
    {
     "name": "stdout",
     "output_type": "stream",
     "text": [
      "0.938596491228\n"
     ]
    }
   ],
   "source": [
    "predicton_logit=np.argmax(prd, axis=1)\n",
    "ground_truth=np.argmax(np.array(y_val), axis=1)\n",
    "accuracy = accuracy_score(ground_truth, predicton_logit)\n",
    "\n",
    "print(accuracy)\n",
    "        "
   ]
  },
  {
   "cell_type": "markdown",
   "metadata": {},
   "source": [
    "Quite interesting , logistic regression seems to be performing similar to neural net."
   ]
  },
  {
   "cell_type": "markdown",
   "metadata": {},
   "source": [
    "<h1> CONCLUSION </h1>\n",
    "\n"
   ]
  },
  {
   "cell_type": "markdown",
   "metadata": {},
   "source": [
    "1)Neural network performed pretty good on raw data itself.\n",
    "\n",
    "2)Hand engineered data reduced the data size , gave it a better structure and consquently improved our neural network model.\n",
    "\n",
    "3)PCA further reduced about 1000 features to just about 150 features , this even led to better performance.\n",
    "\n",
    "4)Logistic regression performed the best with PCA features , giving us an accuracy of 99.2%.\n",
    "\n",
    "5)Other models worked pretty decent too , giving us average accuracy of 96%\n",
    "\n",
    "6)After PCA , our neural network became prone to overfitting , maybe we can reduce the number of layers to just 2 to reduce the complexity.\n",
    "\n",
    "7)For the second task , neural network and logistic regression performed pretty good without any new features."
   ]
  },
  {
   "cell_type": "code",
   "execution_count": null,
   "metadata": {},
   "outputs": [],
   "source": []
  },
  {
   "cell_type": "code",
   "execution_count": null,
   "metadata": {},
   "outputs": [],
   "source": []
  },
  {
   "cell_type": "code",
   "execution_count": 5,
   "metadata": {},
   "outputs": [],
   "source": [
    "\n"
   ]
  },
  {
   "cell_type": "code",
   "execution_count": null,
   "metadata": {},
   "outputs": [],
   "source": [
    "\n"
   ]
  },
  {
   "cell_type": "code",
   "execution_count": null,
   "metadata": {},
   "outputs": [],
   "source": []
  },
  {
   "cell_type": "code",
   "execution_count": null,
   "metadata": {},
   "outputs": [],
   "source": []
  }
 ],
 "metadata": {
  "kernelspec": {
   "display_name": "Python 3",
   "language": "python",
   "name": "python3"
  },
  "language_info": {
   "codemirror_mode": {
    "name": "ipython",
    "version": 3
   },
   "file_extension": ".py",
   "mimetype": "text/x-python",
   "name": "python",
   "nbconvert_exporter": "python",
   "pygments_lexer": "ipython3",
   "version": "3.5.2"
  }
 },
 "nbformat": 4,
 "nbformat_minor": 2
}
